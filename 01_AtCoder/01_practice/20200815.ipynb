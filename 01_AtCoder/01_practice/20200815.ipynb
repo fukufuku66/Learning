{
 "cells": [
  {
   "cell_type": "markdown",
   "metadata": {},
   "source": [
    "## Boot camp for Beginners"
   ]
  },
  {
   "cell_type": "markdown",
   "metadata": {},
   "source": [
    "https://atcoder.jp/contests/abc156/tasks/abc156_c"
   ]
  },
  {
   "cell_type": "code",
   "execution_count": 13,
   "metadata": {},
   "outputs": [
    {
     "name": "stdout",
     "output_type": "stream",
     "text": [
      "7\n",
      "14 14 2 13 56 2 37\n",
      "2354\n"
     ]
    }
   ],
   "source": [
    "import math\n",
    "\n",
    "# inpult\n",
    "# 人数　n\n",
    "n = input();\n",
    "# i番目の人が住んでいる座標x\n",
    "x_list = list(map(int, input().split()));\n",
    "\n",
    "#座標Pを求める（座標の合計の平均を算出）\n",
    "sum_p = 0;\n",
    "for i in x_list:\n",
    "    sum_p = sum_p + i;\n",
    "\n",
    "# 平均を算出する関数roundを作成\n",
    "round_ave = lambda x:(x*2+1)//2;\n",
    "\n",
    "p = round_ave(sum_p/len(x_list));\n",
    "\n",
    "# 各要素からpを引いて2乗した数の和を算出する\n",
    "result = 0;\n",
    "for i in x_list:\n",
    "    result = result + (i - p)**2\n",
    "\n",
    "# 小数点以下を削除して表示\n",
    "print(math.floor(result))\n",
    "    "
   ]
  },
  {
   "cell_type": "code",
   "execution_count": null,
   "metadata": {},
   "outputs": [],
   "source": []
  },
  {
   "cell_type": "code",
   "execution_count": null,
   "metadata": {},
   "outputs": [],
   "source": []
  },
  {
   "cell_type": "code",
   "execution_count": null,
   "metadata": {},
   "outputs": [],
   "source": []
  }
 ],
 "metadata": {
  "kernelspec": {
   "display_name": "Python 3",
   "language": "python",
   "name": "python3"
  },
  "language_info": {
   "codemirror_mode": {
    "name": "ipython",
    "version": 3
   },
   "file_extension": ".py",
   "mimetype": "text/x-python",
   "name": "python",
   "nbconvert_exporter": "python",
   "pygments_lexer": "ipython3",
   "version": "3.7.6"
  }
 },
 "nbformat": 4,
 "nbformat_minor": 4
}
