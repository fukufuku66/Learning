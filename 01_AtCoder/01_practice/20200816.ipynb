{
 "cells": [
  {
   "cell_type": "markdown",
   "metadata": {},
   "source": [
    "## B - Qualification simulator\n",
    "\n",
    "https://atcoder.jp/contests/code-festival-2016-qualb/tasks/codefestival_2016_qualB_b"
   ]
  },
  {
   "cell_type": "code",
   "execution_count": 10,
   "metadata": {},
   "outputs": [
    {
     "name": "stdout",
     "output_type": "stream",
     "text": [
      "10 2 3\n",
      "abccabaabb\n",
      "Yes\n",
      "No\n",
      "No\n",
      "No\n",
      "No\n",
      "No\n",
      "No\n",
      "No\n",
      "No\n",
      "No\n"
     ]
    }
   ],
   "source": [
    "# input 参加人数n, 予選通過人数a, 予選通過人数b\n",
    "n, a, b =  map(int, input().split())\n",
    "# input 参加者情報s\n",
    "s = list(input())\n",
    "\n",
    "\n",
    "\n",
    "counter = 0\n",
    "count_b = 0\n",
    "for i in s:\n",
    "    counter += 1\n",
    "    # cの場合はNo\n",
    "    if i == \"c\":\n",
    "        print(\"No\")\n",
    "    \n",
    "    # aの場合、counter <= A+BであればYes\n",
    "    if i == \"a\":\n",
    "        if counter < (a+b):\n",
    "            print(\"Yes\")\n",
    "        else:\n",
    "            print(\"No\")\n",
    "    \n",
    "    # bの場合、counter <= A+B かつ count_b < B であれば\"Yes\"\n",
    "    if i == \"b\":\n",
    "        if counter < (a+b) & count_b < b:\n",
    "            print(\"Yes\")\n",
    "            count_b += 1\n",
    "        else:\n",
    "            print(\"No\")\n",
    "\n",
    "\n"
   ]
  },
  {
   "cell_type": "code",
   "execution_count": null,
   "metadata": {},
   "outputs": [],
   "source": []
  },
  {
   "cell_type": "code",
   "execution_count": null,
   "metadata": {},
   "outputs": [],
   "source": []
  },
  {
   "cell_type": "code",
   "execution_count": null,
   "metadata": {},
   "outputs": [],
   "source": []
  }
 ],
 "metadata": {
  "kernelspec": {
   "display_name": "Python 3",
   "language": "python",
   "name": "python3"
  },
  "language_info": {
   "codemirror_mode": {
    "name": "ipython",
    "version": 3
   },
   "file_extension": ".py",
   "mimetype": "text/x-python",
   "name": "python",
   "nbconvert_exporter": "python",
   "pygments_lexer": "ipython3",
   "version": "3.7.6"
  }
 },
 "nbformat": 4,
 "nbformat_minor": 4
}
