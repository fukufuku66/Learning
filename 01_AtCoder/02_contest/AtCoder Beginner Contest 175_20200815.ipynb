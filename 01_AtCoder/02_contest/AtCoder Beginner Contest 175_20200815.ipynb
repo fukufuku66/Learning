{
 "cells": [
  {
   "cell_type": "markdown",
   "metadata": {},
   "source": [
    "## A - Rainy Season"
   ]
  },
  {
   "cell_type": "code",
   "execution_count": 8,
   "metadata": {},
   "outputs": [
    {
     "name": "stdout",
     "output_type": "stream",
     "text": [
      "RRR\n",
      "3\n"
     ]
    }
   ],
   "source": [
    "# input 長さ3の文字列\n",
    "input_s = input();\n",
    "\n",
    "output = 0;\n",
    "\n",
    "if \"R\" in input_s:\n",
    "    output = 1;\n",
    "\n",
    "if \"RR\" in input_s:\n",
    "    output = 2;\n",
    "\n",
    "if \"RRR\" in input_s:\n",
    "    output = 3;\n",
    "\n",
    "print(output);\n",
    "\n"
   ]
  },
  {
   "cell_type": "markdown",
   "metadata": {},
   "source": [
    "## B - Making Triangle"
   ]
  },
  {
   "cell_type": "code",
   "execution_count": null,
   "metadata": {},
   "outputs": [],
   "source": [
    "# input 棒の数 n, 棒の長さlen_list\n",
    "n = map(int, input())\n",
    "len_list = map(int, input().split())\n",
    "\n",
    "\n",
    "\n",
    "\n"
   ]
  },
  {
   "cell_type": "markdown",
   "metadata": {},
   "source": [
    "解けなかったので下記参照\n",
    "\n",
    "https://qiita.com/DaikiSuyama/items/c4ce6869cb897221bf8b"
   ]
  },
  {
   "cell_type": "code",
   "execution_count": null,
   "metadata": {},
   "outputs": [],
   "source": [
    "# 三角形の三辺全探索、また、重複なく数えるために\n",
    "# range(n) → range(i+1,n) → range(j+1,n)とする必要がある\n",
    "\n",
    "n = int(input())\n",
    "l = list(map(int, input().split()))\n",
    "l.sort()\n",
    "ans = 0\n",
    "for i in range(n):\n",
    "    for j in range(i+1,n):\n",
    "        for k in range(j+1,n):\n",
    "            if l[i]+l[j]>l[k] and l[i]!=l[j] and l[j]!=l[k]:\n",
    "                ans+=1\n",
    "print(ans)"
   ]
  },
  {
   "cell_type": "markdown",
   "metadata": {},
   "source": [
    "## C - Walking Takahashi"
   ]
  },
  {
   "cell_type": "code",
   "execution_count": 14,
   "metadata": {
    "collapsed": true
   },
   "outputs": [
    {
     "name": "stdout",
     "output_type": "stream",
     "text": [
      "1000000000000000 1000000000000000 1000000000000000\n"
     ]
    },
    {
     "ename": "KeyboardInterrupt",
     "evalue": "",
     "output_type": "error",
     "traceback": [
      "\u001b[1;31m---------------------------------------------------------------------------\u001b[0m",
      "\u001b[1;31mKeyboardInterrupt\u001b[0m                         Traceback (most recent call last)",
      "\u001b[1;32m<ipython-input-14-a6b87a9ddff5>\u001b[0m in \u001b[0;36m<module>\u001b[1;34m\u001b[0m\n\u001b[0;32m      3\u001b[0m \u001b[1;33m\u001b[0m\u001b[0m\n\u001b[0;32m      4\u001b[0m \u001b[1;31m# 現在座標が正ならば引き算、負なら足し算をする\u001b[0m\u001b[1;33m\u001b[0m\u001b[1;33m\u001b[0m\u001b[1;33m\u001b[0m\u001b[0m\n\u001b[1;32m----> 5\u001b[1;33m \u001b[1;32mfor\u001b[0m \u001b[0mi\u001b[0m \u001b[1;32min\u001b[0m \u001b[0mrange\u001b[0m\u001b[1;33m(\u001b[0m\u001b[0mk\u001b[0m\u001b[1;33m)\u001b[0m\u001b[1;33m:\u001b[0m\u001b[1;33m\u001b[0m\u001b[1;33m\u001b[0m\u001b[0m\n\u001b[0m\u001b[0;32m      6\u001b[0m     \u001b[1;32mif\u001b[0m \u001b[0mx\u001b[0m \u001b[1;33m>\u001b[0m \u001b[1;36m0\u001b[0m\u001b[1;33m:\u001b[0m\u001b[1;33m\u001b[0m\u001b[1;33m\u001b[0m\u001b[0m\n\u001b[0;32m      7\u001b[0m         \u001b[0mx\u001b[0m \u001b[1;33m=\u001b[0m \u001b[0mx\u001b[0m \u001b[1;33m-\u001b[0m \u001b[0md\u001b[0m\u001b[1;33m;\u001b[0m\u001b[1;33m\u001b[0m\u001b[1;33m\u001b[0m\u001b[0m\n",
      "\u001b[1;31mKeyboardInterrupt\u001b[0m: "
     ]
    }
   ],
   "source": [
    "# input 現在座標ｘ, 移動回数k, 移動距離d\n",
    "x, k, d = map(int, input().split())\n",
    "\n",
    "# 現在座標が正ならば引き算、負なら足し算をする\n",
    "for i in range(k):\n",
    "    if x > 0:\n",
    "        x = x - d;\n",
    "    elif x <= 0:\n",
    "        x = x + d;\n",
    "\n",
    "# xが負の数の場合正の数に編集する\n",
    "if x < 0:\n",
    "    x = x * (-1);\n",
    "\n",
    "print(x);\n"
   ]
  },
  {
   "cell_type": "markdown",
   "metadata": {},
   "source": [
    "遅すぎる"
   ]
  },
  {
   "cell_type": "code",
   "execution_count": 57,
   "metadata": {},
   "outputs": [
    {
     "name": "stdout",
     "output_type": "stream",
     "text": [
      "6 2 4\n",
      "x1 2\n",
      "x2 6\n",
      "6\n"
     ]
    }
   ],
   "source": [
    "import math;\n",
    "\n",
    "# input 現在座標ｘ, 移動回数k, 移動距離d\n",
    "x, k, d = map(int, input().split())\n",
    "\n",
    "\n",
    "a = math.floor(x / d);\n",
    "if x < 0:\n",
    "    a = a * (-1);\n",
    "\n",
    "if a >= k:\n",
    "    for i in range(k):\n",
    "        if x > 0:\n",
    "            x = x - d;\n",
    "\n",
    "        elif x <= 0:\n",
    "            x = x + d;\n",
    "\n",
    "elif a < k:\n",
    "    \n",
    "    if x > 0:\n",
    "        for i in range(a):\n",
    "            x = x - d;\n",
    "        print(\"x1\",x)\n",
    "        if (k-a) % 2 != 0:\n",
    "            x = x + d;\n",
    "        print(\"x2\",x)\n",
    "\n",
    "    elif x <= 0:    \n",
    "        for i in range(a):\n",
    "            x = x + d;\n",
    "        print(\"x3\",x)\n",
    "\n",
    "        if (k-a) % 2 != 0:\n",
    "            x = x - d;\n",
    "        print(\"x4\",x)    \n",
    "\n",
    "# xが負の数の場合正の数に編集する\n",
    "if x < 0:\n",
    "    x = x * (-1);\n",
    "\n",
    "print(x);"
   ]
  },
  {
   "cell_type": "markdown",
   "metadata": {},
   "source": [
    "これじゃダメなので、ほかの人の解答を見ながら確認\n",
    "\n",
    "https://qiita.com/DaikiSuyama/items/c4ce6869cb897221bf8b"
   ]
  },
  {
   "cell_type": "code",
   "execution_count": null,
   "metadata": {},
   "outputs": [],
   "source": [
    "x,k,d=map(int,input().split())\n",
    "# abs()：絶対値を求める関数\n",
    "x=abs(x)\n",
    "if x>k*d:\n",
    "    print(x-k*d)\n",
    "else:\n",
    "    k-=x//d\n",
    "    x-=(d*(x//d))\n",
    "    ans=[x,abs(d-x)]\n",
    "    print(ans[k%2])"
   ]
  },
  {
   "cell_type": "markdown",
   "metadata": {},
   "source": [
    "## D - Moving Piece"
   ]
  },
  {
   "cell_type": "markdown",
   "metadata": {},
   "source": [
    "## E - Picking Goods"
   ]
  },
  {
   "cell_type": "markdown",
   "metadata": {},
   "source": [
    "## F - Making Palindrome"
   ]
  },
  {
   "cell_type": "code",
   "execution_count": null,
   "metadata": {},
   "outputs": [],
   "source": []
  }
 ],
 "metadata": {
  "kernelspec": {
   "display_name": "Python 3",
   "language": "python",
   "name": "python3"
  },
  "language_info": {
   "codemirror_mode": {
    "name": "ipython",
    "version": 3
   },
   "file_extension": ".py",
   "mimetype": "text/x-python",
   "name": "python",
   "nbconvert_exporter": "python",
   "pygments_lexer": "ipython3",
   "version": "3.7.6"
  }
 },
 "nbformat": 4,
 "nbformat_minor": 4
}
